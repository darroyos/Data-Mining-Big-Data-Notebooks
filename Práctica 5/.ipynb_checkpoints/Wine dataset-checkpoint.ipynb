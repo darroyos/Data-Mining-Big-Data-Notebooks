{
 "cells": [
  {
   "cell_type": "markdown",
   "metadata": {},
   "source": [
    "# Práctica 5 - Wine data-set\n",
    "\n",
    "#### David Arroyo\n",
    "\n",
    "### Facultad de Informática - Universidad Complutense de Madrid\n",
    "* Crea un modelo para hacer machine learning con el Wine Data Set\n",
    "\n",
    "* Estas son las headers:\n",
    "*header = [\"target\", \"Alcohol\", \"Malic_acid\", \"Ash\", \"Alcalinity_of_ash\", \"Magnesium\",\n",
    "\"Total_phenols\", \"Flavanoids\", \"Nonflavanoid_phenols\", \"Proanthocyanins\", \"Color_intensity\",\n",
    "\"Hue\", \"OD280_OD315\", \"Proline\"]*\n",
    "* Utiliza varios métodos de entranamiento, con diferentes valores de parámetros, hasta\n",
    "conseguir el mejor resultado (**random forest**, **KNN**, **SVM**, **Adaboost**,... (http://scikitlearn.org/stable/modules/classes.html#module-sklearn.ensemble)"
   ]
  },
  {
   "cell_type": "code",
   "execution_count": 1,
   "metadata": {
    "scrolled": true
   },
   "outputs": [
    {
     "data": {
      "text/html": [
       "<div>\n",
       "<style scoped>\n",
       "    .dataframe tbody tr th:only-of-type {\n",
       "        vertical-align: middle;\n",
       "    }\n",
       "\n",
       "    .dataframe tbody tr th {\n",
       "        vertical-align: top;\n",
       "    }\n",
       "\n",
       "    .dataframe thead th {\n",
       "        text-align: right;\n",
       "    }\n",
       "</style>\n",
       "<table border=\"1\" class=\"dataframe\">\n",
       "  <thead>\n",
       "    <tr style=\"text-align: right;\">\n",
       "      <th></th>\n",
       "      <th>target</th>\n",
       "      <th>Alcohol</th>\n",
       "      <th>Malic_acid</th>\n",
       "      <th>Ash</th>\n",
       "      <th>Alcalinity_of_ash</th>\n",
       "      <th>Magnesium</th>\n",
       "      <th>Total_phenols</th>\n",
       "      <th>Flavanoids</th>\n",
       "      <th>Nonflavanoid_phenols</th>\n",
       "      <th>Proanthocyanins</th>\n",
       "      <th>Color_intensity</th>\n",
       "      <th>Hue</th>\n",
       "      <th>OD280_OD315</th>\n",
       "      <th>Proline</th>\n",
       "    </tr>\n",
       "  </thead>\n",
       "  <tbody>\n",
       "    <tr>\n",
       "      <th>0</th>\n",
       "      <td>1</td>\n",
       "      <td>14.23</td>\n",
       "      <td>1.71</td>\n",
       "      <td>2.43</td>\n",
       "      <td>15.6</td>\n",
       "      <td>127</td>\n",
       "      <td>2.80</td>\n",
       "      <td>3.06</td>\n",
       "      <td>0.28</td>\n",
       "      <td>2.29</td>\n",
       "      <td>5.64</td>\n",
       "      <td>1.04</td>\n",
       "      <td>3.92</td>\n",
       "      <td>1065</td>\n",
       "    </tr>\n",
       "    <tr>\n",
       "      <th>1</th>\n",
       "      <td>1</td>\n",
       "      <td>13.20</td>\n",
       "      <td>1.78</td>\n",
       "      <td>2.14</td>\n",
       "      <td>11.2</td>\n",
       "      <td>100</td>\n",
       "      <td>2.65</td>\n",
       "      <td>2.76</td>\n",
       "      <td>0.26</td>\n",
       "      <td>1.28</td>\n",
       "      <td>4.38</td>\n",
       "      <td>1.05</td>\n",
       "      <td>3.40</td>\n",
       "      <td>1050</td>\n",
       "    </tr>\n",
       "    <tr>\n",
       "      <th>2</th>\n",
       "      <td>1</td>\n",
       "      <td>13.16</td>\n",
       "      <td>2.36</td>\n",
       "      <td>2.67</td>\n",
       "      <td>18.6</td>\n",
       "      <td>101</td>\n",
       "      <td>2.80</td>\n",
       "      <td>3.24</td>\n",
       "      <td>0.30</td>\n",
       "      <td>2.81</td>\n",
       "      <td>5.68</td>\n",
       "      <td>1.03</td>\n",
       "      <td>3.17</td>\n",
       "      <td>1185</td>\n",
       "    </tr>\n",
       "    <tr>\n",
       "      <th>3</th>\n",
       "      <td>1</td>\n",
       "      <td>14.37</td>\n",
       "      <td>1.95</td>\n",
       "      <td>2.50</td>\n",
       "      <td>16.8</td>\n",
       "      <td>113</td>\n",
       "      <td>3.85</td>\n",
       "      <td>3.49</td>\n",
       "      <td>0.24</td>\n",
       "      <td>2.18</td>\n",
       "      <td>7.80</td>\n",
       "      <td>0.86</td>\n",
       "      <td>3.45</td>\n",
       "      <td>1480</td>\n",
       "    </tr>\n",
       "    <tr>\n",
       "      <th>4</th>\n",
       "      <td>1</td>\n",
       "      <td>13.24</td>\n",
       "      <td>2.59</td>\n",
       "      <td>2.87</td>\n",
       "      <td>21.0</td>\n",
       "      <td>118</td>\n",
       "      <td>2.80</td>\n",
       "      <td>2.69</td>\n",
       "      <td>0.39</td>\n",
       "      <td>1.82</td>\n",
       "      <td>4.32</td>\n",
       "      <td>1.04</td>\n",
       "      <td>2.93</td>\n",
       "      <td>735</td>\n",
       "    </tr>\n",
       "  </tbody>\n",
       "</table>\n",
       "</div>"
      ],
      "text/plain": [
       "   target  Alcohol  Malic_acid   Ash  Alcalinity_of_ash  Magnesium  \\\n",
       "0       1    14.23        1.71  2.43               15.6        127   \n",
       "1       1    13.20        1.78  2.14               11.2        100   \n",
       "2       1    13.16        2.36  2.67               18.6        101   \n",
       "3       1    14.37        1.95  2.50               16.8        113   \n",
       "4       1    13.24        2.59  2.87               21.0        118   \n",
       "\n",
       "   Total_phenols  Flavanoids  Nonflavanoid_phenols  Proanthocyanins  \\\n",
       "0           2.80        3.06                  0.28             2.29   \n",
       "1           2.65        2.76                  0.26             1.28   \n",
       "2           2.80        3.24                  0.30             2.81   \n",
       "3           3.85        3.49                  0.24             2.18   \n",
       "4           2.80        2.69                  0.39             1.82   \n",
       "\n",
       "   Color_intensity   Hue  OD280_OD315  Proline  \n",
       "0             5.64  1.04         3.92     1065  \n",
       "1             4.38  1.05         3.40     1050  \n",
       "2             5.68  1.03         3.17     1185  \n",
       "3             7.80  0.86         3.45     1480  \n",
       "4             4.32  1.04         2.93      735  "
      ]
     },
     "execution_count": 1,
     "metadata": {},
     "output_type": "execute_result"
    }
   ],
   "source": [
    "import pandas as pd\n",
    "\n",
    "header = [\"target\", \"Alcohol\", \"Malic_acid\", \"Ash\", \"Alcalinity_of_ash\", \"Magnesium\", \\\n",
    "\"Total_phenols\", \"Flavanoids\", \"Nonflavanoid_phenols\", \"Proanthocyanins\", \"Color_intensity\", \\\n",
    "\"Hue\", \"OD280_OD315\", \"Proline\"]\n",
    "\n",
    "wine_df = pd.read_csv(\"wine.data\", names=header)  # leemos el dataset\n",
    "\n",
    "wine_df.head()"
   ]
  },
  {
   "cell_type": "markdown",
   "metadata": {},
   "source": [
    "# Entrenamiento con Random Forest\n",
    "Es una combinación de árboles predictores tal que cada árbol depende de los valores de un vector aleatorio probado independientemente y con la misma distribución para cada uno de estos. Es una modificación sustancial de bagging que construye una larga colección de árboles no correlacionados y luego los promedia.\n",
    "\n",
    "[Enlace a Wikipedia](https://es.wikipedia.org/wiki/Random_forest)"
   ]
  },
  {
   "cell_type": "code",
   "execution_count": 2,
   "metadata": {
    "scrolled": true
   },
   "outputs": [
    {
     "name": "stdout",
     "output_type": "stream",
     "text": [
      "[0.8343588751289989, 0.8482155142758858, 0.9116959064327486, 0.9345029239766081, 0.9548267113863089, 0.94375, 0.9616959064327485, 0.9555555555555555, 0.9672514619883043, 0.9558479532163743, 0.9888888888888889, 0.9610767113863089, 0.9725146198830409, 0.9663398692810456, 0.9656454248366012, 0.9722222222222221, 0.956140350877193, 0.9888888888888889, 0.9722222222222221, 0.9610767113863089]\n"
     ]
    }
   ],
   "source": [
    "%matplotlib inline\n",
    "\n",
    "import matplotlib.pyplot as plt\n",
    "\n",
    "# Entrenamos con Random Forest\n",
    "from sklearn.ensemble import RandomForestClassifier\n",
    "from sklearn.model_selection import cross_val_score\n",
    "\n",
    "# Buscamos los mejores parámetros para el Random Forest\n",
    "\n",
    "X = wine_df.drop('target', axis=1)\n",
    "y = wine_df['target']\n",
    "\n",
    "scores = []\n",
    "my_range = range(1, 21)\n",
    "for n in my_range:\n",
    "    cf = RandomForestClassifier(n_estimators=n)\n",
    "    scores.append(cross_val_score(cf, X, y, cv=10, scoring='accuracy').mean())\n",
    "    \n",
    "print scores"
   ]
  },
  {
   "cell_type": "code",
   "execution_count": 3,
   "metadata": {},
   "outputs": [
    {
     "name": "stdout",
     "output_type": "stream",
     "text": [
      "Random Forest accuracy: 0.94 %\n"
     ]
    },
    {
     "data": {
      "image/png": "[encoded data removed]",
      "text/plain": [
       "<matplotlib.figure.Figure at 0xdf1dc50>"
      ]
     },
     "metadata": {},
     "output_type": "display_data"
    }
   ],
   "source": [
    "plt.plot(my_range, scores, '-', lw=2)\n",
    "plt.title(\"Random Forest Classifier\")\n",
    "plt.xlabel('Number of estimators')\n",
    "plt.ylabel('Cross-Validated Accuracy')\n",
    "\n",
    "best_parameter = scores.index(max(scores)) + 1\n",
    "\n",
    "cf = RandomForestClassifier(n_estimators=best_parameter)\n",
    "print 'Random Forest accuracy: %s %%' % round(cross_val_score(cf, X, y, cv=10, scoring='accuracy').mean(), 2)"
   ]
  },
  {
   "cell_type": "markdown",
   "metadata": {},
   "source": [
    "# Entrenamiento con KNN\n",
    "Ajuste de parámetros utilizando **GridSearchCV**. Utiliza un **grid de parámetros** y los evualará utilizando cross-validation. Si tuvieramos una lista de parámetros mucho más larga podría ser interesante utilizar **RandomizedSearchCV**.\n",
    "\n",
    "[Enlace a Wikipedia](https://es.wikipedia.org/wiki/K_vecinos_m%C3%A1s_pr%C3%B3ximos)"
   ]
  },
  {
   "cell_type": "code",
   "execution_count": 4,
   "metadata": {},
   "outputs": [],
   "source": [
    "from sklearn.model_selection import GridSearchCV\n",
    "from sklearn.neighbors import KNeighborsClassifier\n",
    "\n",
    "# parámetros que se buscarán\n",
    "k_range = list(range(1, 31))\n",
    "weight_options = ['uniform', 'distance']"
   ]
  },
  {
   "cell_type": "code",
   "execution_count": 5,
   "metadata": {},
   "outputs": [
    {
     "name": "stdout",
     "output_type": "stream",
     "text": [
      "{'n_neighbors': [1, 2, 3, 4, 5, 6, 7, 8, 9, 10, 11, 12, 13, 14, 15, 16, 17, 18, 19, 20, 21, 22, 23, 24, 25, 26, 27, 28, 29, 30], 'weights': ['uniform', 'distance']}\n"
     ]
    }
   ],
   "source": [
    "# crear el grid de parámetros\n",
    "param_grid = dict(n_neighbors=k_range, weights=weight_options)\n",
    "print(param_grid)"
   ]
  },
  {
   "cell_type": "code",
   "execution_count": 6,
   "metadata": {},
   "outputs": [],
   "source": [
    "# instanciar el grid\n",
    "knn = KNeighborsClassifier()\n",
    "grid = GridSearchCV(knn, param_grid, cv=10, scoring='accuracy')"
   ]
  },
  {
   "cell_type": "code",
   "execution_count": 7,
   "metadata": {},
   "outputs": [
    {
     "data": {
      "text/plain": [
       "GridSearchCV(cv=10, error_score='raise',\n",
       "       estimator=KNeighborsClassifier(algorithm='auto', leaf_size=30, metric='minkowski',\n",
       "           metric_params=None, n_jobs=1, n_neighbors=5, p=2,\n",
       "           weights='uniform'),\n",
       "       fit_params=None, iid=True, n_jobs=1,\n",
       "       param_grid={'n_neighbors': [1, 2, 3, 4, 5, 6, 7, 8, 9, 10, 11, 12, 13, 14, 15, 16, 17, 18, 19, 20, 21, 22, 23, 24, 25, 26, 27, 28, 29, 30], 'weights': ['uniform', 'distance']},\n",
       "       pre_dispatch='2*n_jobs', refit=True, return_train_score='warn',\n",
       "       scoring='accuracy', verbose=0)"
      ]
     },
     "execution_count": 7,
     "metadata": {},
     "output_type": "execute_result"
    }
   ],
   "source": [
    "# ajustar los datos con el grid\n",
    "grid.fit(X, y)"
   ]
  },
  {
   "cell_type": "code",
   "execution_count": 8,
   "metadata": {
    "scrolled": false
   },
   "outputs": [
    {
     "name": "stdout",
     "output_type": "stream",
     "text": [
      "[0.74719101 0.74719101 0.66853933 0.74719101 0.71910112 0.74157303\n",
      " 0.66292135 0.71910112 0.6741573  0.71910112 0.66853933 0.73033708\n",
      " 0.66292135 0.71910112 0.70224719 0.73033708 0.69662921 0.73033708\n",
      " 0.69662921 0.71910112 0.71348315 0.73033708 0.69101124 0.73033708\n",
      " 0.69101124 0.71910112 0.68539326 0.7247191  0.71910112 0.71910112\n",
      " 0.70786517 0.73595506 0.69662921 0.7247191  0.71348315 0.73595506\n",
      " 0.70224719 0.73033708 0.69662921 0.74719101 0.70786517 0.74157303\n",
      " 0.71348315 0.74719101 0.73033708 0.74719101 0.70224719 0.74719101\n",
      " 0.71348315 0.73595506 0.71348315 0.73033708 0.70786517 0.74719101\n",
      " 0.71348315 0.74157303 0.71348315 0.74157303 0.71348315 0.74719101]\n"
     ]
    }
   ],
   "source": [
    "# ver los resultados\n",
    "print grid.cv_results_.get('mean_test_score')"
   ]
  },
  {
   "cell_type": "code",
   "execution_count": 9,
   "metadata": {},
   "outputs": [
    {
     "name": "stdout",
     "output_type": "stream",
     "text": [
      "0.7471910112359551\n",
      "{'n_neighbors': 1, 'weights': 'uniform'}\n",
      "KNeighborsClassifier(algorithm='auto', leaf_size=30, metric='minkowski',\n",
      "           metric_params=None, n_jobs=1, n_neighbors=1, p=2,\n",
      "           weights='uniform')\n"
     ]
    }
   ],
   "source": [
    "# examinar el mejor resultado\n",
    "print(grid.best_score_)\n",
    "print(grid.best_params_)\n",
    "print(grid.best_estimator_)"
   ]
  },
  {
   "cell_type": "markdown",
   "metadata": {},
   "source": [
    "# Entrenamiento con SVC *(Support Vector Classification)*\n",
    "Las **máquinas de soporte vectorial, máquinas de vectores de soporte o máquinas de vector soporte (Support Vector Machines, SVMs)** son un conjunto de algoritmos de aprendizaje supervisado desarrollados por Vladimir Vapnik y su equipo en los laboratorios AT&T.\n",
    "\n",
    "Estos métodos están propiamente relacionados con problemas de clasificación y regresión. Dado un conjunto de ejemplos de entrenamiento (de muestras) podemos etiquetar las clases y entrenar una SVM para construir un modelo que prediga la clase de una nueva muestra. Intuitivamente, una SVM es un modelo que representa a los puntos de muestra en el espacio, separando las clases a 2 espacios lo más amplios posibles mediante un hiperplano de separación definido como el vector entre los 2 puntos, de las 2 clases, más cercanos al que se llama **vector soporte**. Cuando las nuevas muestras se ponen en correspondencia con dicho modelo, en función de los espacios a los que pertenezcan, pueden ser clasificadas a una o la otra clase.\n",
    "\n",
    "Más formalmente, una SVM construye un hiperplano o conjunto de hiperplanos en un espacio de dimensionalidad muy alta (o incluso infinita) que puede ser utilizado en problemas de clasificación o regresión. Una buena separación entre las clases permitirá una clasificación correcta.\n",
    "\n",
    "[Enlace a Wikipedia](https://es.wikipedia.org/wiki/M%C3%A1quinas_de_vectores_de_soporte)"
   ]
  },
  {
   "cell_type": "code",
   "execution_count": 10,
   "metadata": {},
   "outputs": [],
   "source": [
    "from sklearn.svm import SVC\n",
    "\n",
    "penalties = []  # Penalty parameter C of the error term\n",
    "my_range = range(1, 21)\n",
    "for i in my_range:\n",
    "    penalties.append(i/10.0)"
   ]
  },
  {
   "cell_type": "markdown",
   "metadata": {},
   "source": [
    "#### Anotar los mejores resultados para cada tipo de kernel"
   ]
  },
  {
   "cell_type": "code",
   "execution_count": 11,
   "metadata": {},
   "outputs": [
    {
     "name": "stdout",
     "output_type": "stream",
     "text": [
      "{'rbf': {'penalty': 1.2, 'score': 0.4731918644650842}, 'linear': {'penalty': 0.1, 'score': 0.9728070175438596}, 'poly': {'penalty': 0.1, 'score': 0.9614035087719298}, 'sigmoid': {'penalty': 0.1, 'score': 0.3992539559683522}}\n"
     ]
    }
   ],
   "source": [
    "scores_kernels = {'rbf': {'score': 0, 'penalty': 0}, 'linear': {'score': 0, 'penalty': 0}, 'poly': {'score': 0, 'penalty': 0}, 'sigmoid': {'score': 0, 'penalty': 0}}\n",
    "\n",
    "for kernel in scores_kernels.keys():\n",
    "    for penalty in penalties:\n",
    "        svc = SVC(C=penalty, random_state=7, kernel=kernel)\n",
    "        \n",
    "        score = scores_kernels.get(kernel).get('score')\n",
    "        new_score = cross_val_score(svc, X, y, cv=10, scoring='accuracy').mean()\n",
    "        \n",
    "        if new_score > score:\n",
    "            scores_kernels.update({kernel: {'score': new_score, 'penalty': penalty}})\n",
    "\n",
    "print scores_kernels"
   ]
  },
  {
   "cell_type": "code",
   "execution_count": 12,
   "metadata": {},
   "outputs": [
    {
     "data": {
      "text/plain": [
       "Text(0,0.5,u'Cross-Validated Accuracy')"
      ]
     },
     "execution_count": 12,
     "metadata": {},
     "output_type": "execute_result"
    },
    {
     "data": {
      "image/png": "[encoded data removed]",
      "text/plain": [
       "<matplotlib.figure.Figure at 0xe0985f8>"
      ]
     },
     "metadata": {},
     "output_type": "display_data"
    }
   ],
   "source": [
    "scores = []\n",
    "for kernel in scores_kernels.keys():\n",
    "    scores.append(scores_kernels.get(kernel).get('score'))\n",
    "    \n",
    "plt.plot(scores_kernels.keys(), scores, '.', ms=15)\n",
    "plt.title(\"Support Vector Classification\")\n",
    "plt.xlabel('Kernel type')\n",
    "plt.ylabel('Cross-Validated Accuracy')"
   ]
  },
  {
   "cell_type": "code",
   "execution_count": 13,
   "metadata": {
    "scrolled": true
   },
   "outputs": [
    {
     "name": "stdout",
     "output_type": "stream",
     "text": [
      "SVC accuracy: 0.97 %\n"
     ]
    }
   ],
   "source": [
    "# Kernel 'linear' es el que mejor resultado ofrece\n",
    "svc = SVC(C=scores_kernels.get('linear').get('penalty'), random_state=7, kernel='linear')\n",
    "print 'SVC accuracy: %s %%' % round(cross_val_score(svc, X, y, cv=10, scoring='accuracy').mean(), 2)"
   ]
  },
  {
   "cell_type": "markdown",
   "metadata": {},
   "source": [
    "# Entrenamiento con AdaBoost\n",
    "**Boosting** es un meta-algoritmo de aprendizaje automático que reduce el sesgo y varianza en un contexto de aprendizaje supervisado. Boosting está basado en el cuestionamiento planteado por Kearns y Valiant (1988, 1989): ¿Puede un conjunto de clasificadores débiles crear un clasificador robusto? Un clasificador débil está definido para ser un clasificador el cuál está solo débilmente correlacionado con la clasificación correcta (el mismo clasifica mejor que un un clasificador aleatorio). En contraste, un clasificador robusto es un clasificador que tiene un mejor desempeño que el de un clasificador débil, ya que sus clasificaciones se aproximan más a las verdaderas clases.\n",
    "\n",
    "[Enlace a Wikipedia](https://es.wikipedia.org/wiki/Boosting)"
   ]
  },
  {
   "cell_type": "code",
   "execution_count": 14,
   "metadata": {},
   "outputs": [],
   "source": [
    "from sklearn.ensemble import AdaBoostClassifier\n",
    "\n",
    "n_estimators = range(50, 70)\n",
    "scores = []\n",
    "\n",
    "for i in n_estimators:\n",
    "    ada = AdaBoostClassifier(n_estimators=i)\n",
    "    scores.append({i: cross_val_score(ada, X, y, cv=10, scoring='accuracy').mean()})"
   ]
  },
  {
   "cell_type": "code",
   "execution_count": 15,
   "metadata": {},
   "outputs": [
    {
     "name": "stdout",
     "output_type": "stream",
     "text": [
      "AdaBoost accuracy: 0.874900%\n"
     ]
    },
    {
     "data": {
      "image/png": "[encoded data removed]",
      "text/plain": [
       "<matplotlib.figure.Figure at 0xe323a20>"
      ]
     },
     "metadata": {},
     "output_type": "display_data"
    }
   ],
   "source": [
    "y_scores = [x.items()[0][1] for x in scores]\n",
    "\n",
    "plt.plot(n_estimators, y_scores)\n",
    "plt.title('AdaBoost Classifier')\n",
    "plt.xlabel('Maximum number of estimators at which boosting is terminated')\n",
    "plt.ylabel('Cross-Validated Accuracy')\n",
    "\n",
    "print \"AdaBoost accuracy: %f%%\" % round(max(y_scores), 4)"
   ]
  },
  {
   "cell_type": "code",
   "execution_count": 16,
   "metadata": {},
   "outputs": [],
   "source": [
    "learning_rate = range(1, 6)\n",
    "scores = []\n",
    "\n",
    "for i in learning_rate:\n",
    "    ada = AdaBoostClassifier(learning_rate=i)\n",
    "    scores.append({i: cross_val_score(ada, X, y, cv=10, scoring='accuracy').mean()})"
   ]
  },
  {
   "cell_type": "code",
   "execution_count": 17,
   "metadata": {},
   "outputs": [
    {
     "name": "stdout",
     "output_type": "stream",
     "text": [
      "AdaBoost accuracy: 0.874500%\n"
     ]
    },
    {
     "data": {
      "image/png": "[encoded data removed]",
      "text/plain": [
       "<matplotlib.figure.Figure at 0xf58cd30>"
      ]
     },
     "metadata": {},
     "output_type": "display_data"
    }
   ],
   "source": [
    "y_scores = [x.items()[0][1] for x in scores]\n",
    "\n",
    "plt.plot(learning_rate, y_scores)\n",
    "plt.title('AdaBoost Classifier')\n",
    "plt.xlabel('Learning rate')\n",
    "plt.ylabel('Cross-Validated Accuracy')\n",
    "\n",
    "\n",
    "print \"AdaBoost accuracy: %f%%\" % round(max(y_scores), 4)"
   ]
  },
  {
   "cell_type": "markdown",
   "metadata": {},
   "source": [
    "### Buscamos los mejores hiperparámetros utilizando GridSearchCV"
   ]
  },
  {
   "cell_type": "code",
   "execution_count": 18,
   "metadata": {},
   "outputs": [
    {
     "name": "stdout",
     "output_type": "stream",
     "text": [
      "{'n_estimators': [50, 51, 52, 53, 54, 55, 56, 57, 58, 59, 60, 61, 62, 63, 64, 65, 66, 67, 68, 69], 'learning_rate': [1, 2, 3, 4, 5]}\n"
     ]
    }
   ],
   "source": [
    "# crear el grid de parámetros\n",
    "param_grid = dict(learning_rate=learning_rate, n_estimators=n_estimators)\n",
    "print(param_grid)"
   ]
  },
  {
   "cell_type": "code",
   "execution_count": 19,
   "metadata": {},
   "outputs": [],
   "source": [
    "# instanciar el grid\n",
    "ada = AdaBoostClassifier()\n",
    "grid = GridSearchCV(ada, param_grid, cv=10, scoring='accuracy')"
   ]
  },
  {
   "cell_type": "code",
   "execution_count": 20,
   "metadata": {},
   "outputs": [
    {
     "data": {
      "text/plain": [
       "GridSearchCV(cv=10, error_score='raise',\n",
       "       estimator=AdaBoostClassifier(algorithm='SAMME.R', base_estimator=None,\n",
       "          learning_rate=1.0, n_estimators=50, random_state=None),\n",
       "       fit_params=None, iid=True, n_jobs=1,\n",
       "       param_grid={'n_estimators': [50, 51, 52, 53, 54, 55, 56, 57, 58, 59, 60, 61, 62, 63, 64, 65, 66, 67, 68, 69], 'learning_rate': [1, 2, 3, 4, 5]},\n",
       "       pre_dispatch='2*n_jobs', refit=True, return_train_score='warn',\n",
       "       scoring='accuracy', verbose=0)"
      ]
     },
     "execution_count": 20,
     "metadata": {},
     "output_type": "execute_result"
    }
   ],
   "source": [
    "# ajustar los datos con el grid\n",
    "grid.fit(X, y)"
   ]
  },
  {
   "cell_type": "code",
   "execution_count": 21,
   "metadata": {},
   "outputs": [
    {
     "name": "stdout",
     "output_type": "stream",
     "text": [
      "[0.87078652 0.87078652 0.87078652 0.86516854 0.87640449 0.87078652\n",
      " 0.87078652 0.87078652 0.87078652 0.87078652 0.87078652 0.87078652\n",
      " 0.87078652 0.87078652 0.86516854 0.86516854 0.87078652 0.87078652\n",
      " 0.87078652 0.86516854 0.87640449 0.78089888 0.84269663 0.8258427\n",
      " 0.84831461 0.85393258 0.84269663 0.79213483 0.83146067 0.83707865\n",
      " 0.85955056 0.8258427  0.88764045 0.79213483 0.87078652 0.83707865\n",
      " 0.83707865 0.8258427  0.84831461 0.80898876 0.79775281 0.79775281\n",
      " 0.83146067 0.79775281 0.80898876 0.81460674 0.79213483 0.79775281\n",
      " 0.81460674 0.82022472 0.79213483 0.79213483 0.73595506 0.80898876\n",
      " 0.75842697 0.83146067 0.8258427  0.7752809  0.8258427  0.78089888\n",
      " 0.62921348 0.6011236  0.64606742 0.6741573  0.63483146 0.64044944\n",
      " 0.67977528 0.62921348 0.63483146 0.70786517 0.61235955 0.62921348\n",
      " 0.61797753 0.63483146 0.53932584 0.65168539 0.58426966 0.67977528\n",
      " 0.6741573  0.64606742 0.56179775 0.53370787 0.58988764 0.61797753\n",
      " 0.53370787 0.56741573 0.58426966 0.53370787 0.58988764 0.60674157\n",
      " 0.53370787 0.57303371 0.61235955 0.54494382 0.58426966 0.61797753\n",
      " 0.61235955 0.56741573 0.6011236  0.54494382]\n"
     ]
    }
   ],
   "source": [
    "# ver los resultados\n",
    "print grid.cv_results_.get('mean_test_score')"
   ]
  },
  {
   "cell_type": "code",
   "execution_count": 22,
   "metadata": {},
   "outputs": [
    {
     "name": "stdout",
     "output_type": "stream",
     "text": [
      "0.8876404494382022\n",
      "{'n_estimators': 62, 'learning_rate': 2}\n",
      "AdaBoostClassifier(algorithm='SAMME.R', base_estimator=None, learning_rate=2,\n",
      "          n_estimators=62, random_state=None)\n"
     ]
    }
   ],
   "source": [
    "# examinar el mejor resultado\n",
    "print(grid.best_score_)\n",
    "print(grid.best_params_)\n",
    "print(grid.best_estimator_)"
   ]
  }
 ],
 "metadata": {
  "kernelspec": {
   "display_name": "Python 3",
   "language": "python",
   "name": "python3"
  },
  "language_info": {
   "codemirror_mode": {
    "name": "ipython",
    "version": 3
   },
   "file_extension": ".py",
   "mimetype": "text/x-python",
   "name": "python",
   "nbconvert_exporter": "python",
   "pygments_lexer": "ipython3",
   "version": "3.6.5"
  }
 },
 "nbformat": 4,
 "nbformat_minor": 2
}
