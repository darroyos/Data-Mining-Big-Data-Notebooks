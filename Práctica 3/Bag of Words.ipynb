{
 "cells": [
  {
   "cell_type": "markdown",
   "metadata": {},
   "source": [
    "# Práctica 3 - Bag of Words\n",
    "\n",
    "#### David Arroyo Segovia - Miguel Sierra Esteso\n",
    "### Facultad de Informática - Universidad Complutense de Madrid"
   ]
  },
  {
   "cell_type": "code",
   "execution_count": 1,
   "metadata": {},
   "outputs": [],
   "source": [
    "words = \"\"\n",
    "with open(\"bow.txt\") as bag:\n",
    "    not_end = True\n",
    "    while not_end:\n",
    "        char = bag.read(1)\n",
    "        if char:\n",
    "            if char != \",\" and char != \".\" and char != \";\" and char != \"-\" and char != \"?\" and char != \"!\" and char != '\"':\n",
    "                words += char\n",
    "        else:\n",
    "            not_end = False"
   ]
  },
  {
   "cell_type": "code",
   "execution_count": 2,
   "metadata": {},
   "outputs": [
    {
     "name": "stdout",
     "output_type": "stream",
     "text": [
      "{'One': 1, 'morning': 4, 'when': 10, 'Gregor': 7, 'Samsa': 4, 'woke': 2, 'from': 9, 'troubled': 2, 'dreams': 2, 'he': 69, 'found': 4, 'himself': 6, 'transformed': 2, 'in': 18, 'his': 34, 'bed': 4, 'into': 8, 'a': 44, 'horrible': 2, 'vermin': 2, 'He': 10, 'lay': 6, 'on': 16, 'armourlike': 2, 'back': 12, 'and': 45, 'if': 10, 'lifted': 2, 'head': 4, 'little': 8, 'could': 8, 'see': 6, 'brown': 2, 'belly': 4, 'slightly': 2, 'domed': 2, 'divided': 2, 'by': 4, 'arches': 2, 'stiff': 2, 'sections': 2, 'The': 6, 'bedding': 2, 'was': 29, 'hardly': 2, 'able': 2, 'to': 60, 'cover': 2, 'it': 26, 'seemed': 2, 'ready': 2, 'slide': 2, 'off': 6, 'any': 4, 'moment': 2, 'His': 6, 'many': 3, 'legs': 6, 'pitifully': 2, 'thin': 2, 'compared': 2, 'with': 18, 'the': 78, 'size': 2, 'of': 40, 'rest': 2, 'him': 12, 'waved': 2, 'about': 12, 'helplessly': 2, 'as': 14, 'looked': 4, \"What's\": 2, 'happened': 2, 'me': 4, 'thought': 10, 'It': 8, \"wasn't\": 2, 'dream': 2, 'room': 4, 'proper': 2, 'human': 2, 'although': 2, 'too': 2, 'small': 2, 'peacefully': 4, 'between': 2, 'its': 2, 'four': 4, 'familiar': 2, 'walls': 2, 'A': 2, 'collection': 4, 'textile': 2, 'samples': 4, 'spread': 2, 'out': 14, 'table': 2, 'travelling': 6, 'salesman': 2, 'above': 2, 'there': 14, 'hung': 2, 'picture': 2, 'that': 39, 'had': 10, 'recently': 2, 'cut': 2, 'an': 2, 'illustrated': 2, 'magazine': 2, 'housed': 2, 'nice': 2, 'gilded': 2, 'frame': 2, 'showed': 2, 'lady': 2, 'fitted': 2, 'fur': 6, 'hat': 2, 'boa': 2, 'who': 4, 'sat': 2, 'upright': 2, 'raising': 2, 'heavy': 2, 'muff': 2, 'covered': 4, 'whole': 2, 'her': 2, 'lower': 2, 'arm': 2, 'towards': 4, 'viewer': 2, 'then': 2, 'turned': 2, 'look': 4, 'window': 2, 'at': 18, 'dull': 4, 'weather': 2, 'Drops': 2, 'rain': 2, 'be': 8, 'heard': 2, 'hitting': 2, 'pane': 2, 'which': 4, 'made': 2, 'feel': 11, 'quite': 2, 'sad': 2, 'How': 2, 'I': 16, 'sleep': 6, 'bit': 2, 'longer': 2, 'forget': 2, 'all': 14, 'this': 5, 'nonsense': 2, 'but': 7, 'something': 2, 'unable': 2, 'do': 6, 'because': 8, 'used': 2, 'sleeping': 3, 'right': 8, 'present': 2, 'state': 2, \"couldn't\": 2, 'get': 10, 'position': 4, 'However': 2, 'hard': 4, 'threw': 2, 'onto': 2, 'always': 4, 'rolled': 2, 'where': 4, 'must': 4, 'have': 23, 'tried': 4, 'hundred': 2, 'times': 2, 'shut': 2, 'eyes': 2, 'so': 7, \"wouldn't\": 2, 'floundering': 2, 'only': 2, 'stopped': 2, 'began': 2, 'mild': 2, 'pain': 2, 'never': 6, 'felt': 5, 'before': 2, 'Oh': 2, 'God': 4, 'what': 10, 'strenuous': 2, 'career': 2, 'is': 4, \"I've\": 6, 'chosen': 2, 'Travelling': 2, 'day': 4, 'Doing': 2, 'business': 6, 'like': 6, 'takes': 2, 'much': 3, 'more': 7, 'effort': 2, 'than': 5, 'doing': 2, 'your': 6, 'own': 2, 'home': 2, 'top': 2, \"there's\": 4, 'curse': 2, 'worries': 2, 'making': 2, 'train': 10, 'connections': 2, 'bad': 2, 'irregular': 2, 'food': 2, 'contact': 2, 'different': 2, 'people': 2, 'time': 8, 'you': 6, 'can': 4, 'know': 6, 'anyone': 2, 'or': 4, 'become': 2, 'friendly': 2, 'them': 2, 'go': 8, 'Hell': 2, 'slight': 2, 'itch': 4, 'up': 16, 'pushed': 2, 'slowly': 2, 'headboard': 2, 'lift': 2, 'better': 2, 'saw': 2, 'lots': 2, 'white': 2, 'spots': 2, \"didn't\": 4, 'make': 6, 'place': 2, 'one': 2, 'drew': 2, 'quickly': 2, 'soon': 2, 'touched': 2, 'overcome': 2, 'cold': 2, 'shudder': 2, 'slid': 2, 'former': 2, 'Getting': 2, 'early': 2, 'makes': 2, 'stupid': 2, \"You've\": 2, 'got': 6, 'enough': 2, 'Other': 2, 'salesmen': 2, 'live': 2, 'life': 2, 'luxury': 2, 'For': 2, 'instance': 2, 'whenever': 2, 'guest': 2, 'house': 2, 'during': 2, 'copy': 2, 'contract': 2, 'these': 2, 'gentlemen': 2, 'are': 2, 'still': 6, 'sitting': 4, 'eating': 2, 'their': 2, 'breakfasts': 2, 'ought': 2, 'just': 6, 'try': 2, 'my': 10, 'boss': 8, \"I'd\": 6, 'kicked': 2, 'spot': 2, 'But': 4, 'knows': 2, 'maybe': 2, 'would': 17, 'best': 2, 'thing': 2, 'for': 5, 'If': 2, 'parents': 4, 'think': 4, 'given': 2, 'notice': 2, 'long': 5, 'ago': 4, 'gone': 2, 'told': 2, 'tell': 2, 'everything': 2, 'let': 2, \"He'd\": 2, 'fall': 2, 'desk': 4, 'And': 7, \"it's\": 2, 'funny': 2, 'sort': 2, 'talking': 2, 'down': 2, 'subordinates': 2, 'especially': 2, 'close': 2, 'hearing': 2, 'Well': 2, 'some': 2, 'hope': 2, 'once': 4, 'money': 2, 'together': 2, 'pay': 2, \"parents'\": 2, 'debt': 2, 'another': 2, 'five': 6, 'six': 4, 'years': 4, 'suppose': 2, \"that's\": 2, 'definitely': 2, \"I'll\": 4, \"That's\": 2, 'big': 2, 'change': 2, 'First': 2, 'though': 2, 'leaves': 2, 'over': 2, 'alarm': 4, 'clock': 4, 'ticking': 2, 'chest': 2, 'drawers': 2, 'Heaven': 2, 'half': 4, 'past': 4, 'hands': 2, 'were': 5, 'quietly': 4, 'moving': 2, 'forwards': 2, 'even': 5, 'later': 2, 'quarter': 2, 'seven': 4, 'Had': 2, 'not': 14, 'rung': 4, 'been': 9, 'set': 2, \"o'clock\": 4, 'should': 4, 'certainly': 4, 'Yes': 2, 'possible': 2, 'through': 2, 'furniturerattling': 2, 'noise': 2, 'True': 2, 'slept': 2, 'probably': 2, 'deeply': 2, 'What': 4, 'now': 2, 'next': 2, 'went': 2, 'catch': 4, 'rush': 2, 'mad': 2, 'packed': 2, 'did': 5, 'particularly': 2, 'fresh': 2, 'lively': 2, 'avoid': 2, \"boss's\": 4, 'anger': 2, 'office': 4, 'assistant': 4, 'put': 2, 'report': 2, \"Gregor's\": 2, 'being': 2, 'man': 2, 'spineless': 2, 'no': 2, 'understanding': 2, 'reported': 2, 'sick': 2, 'extremely': 2, 'strained': 2, 'suspicious': 2, 'fifteen': 2, 'service': 2, 'yet': 2, 'ill': 3, 'come': 2, 'round': 2, 'doctor': 4, 'medical': 2, 'insurance': 2, 'company': 2, 'accuse': 2, 'having': 2, 'lazy': 2, 'son': 2, 'accept': 2, \"doctor's\": 2, 'recommendation': 2, 'claim': 2, 'believed': 2, 'noone': 1, 'ever': 1, 'workshy': 1, \"what's\": 1, 'entirely': 1, 'wrong': 1, 'case': 1, 'fact': 1, 'apart': 1, 'excessive': 1, 'sleepiness': 1, 'after': 1, 'completely': 1, 'well': 1, 'hungrier': 1, 'usualOne': 1}\n"
     ]
    }
   ],
   "source": [
    "bag = {}\n",
    "\n",
    "word_list = words.split()\n",
    "\n",
    "for word in word_list:\n",
    "    num = bag.get(word)\n",
    "    \n",
    "    if (num):\n",
    "        num += 1\n",
    "        bag.update({word: num})\n",
    "    else:\n",
    "        bag.update({word: 1})\n",
    "        \n",
    "print(bag)"
   ]
  },
  {
   "cell_type": "code",
   "execution_count": 3,
   "metadata": {},
   "outputs": [
    {
     "name": "stdout",
     "output_type": "stream",
     "text": [
      "[('the', 78), ('he', 69), ('to', 60), ('and', 45), ('a', 44), ('of', 40), ('that', 39), ('his', 34), ('was', 29), ('it', 26), ('have', 23), ('in', 18), ('with', 18), ('at', 18), ('would', 17), ('on', 16), ('I', 16), ('up', 16), ('as', 14), ('out', 14)]\n"
     ]
    }
   ],
   "source": [
    "bag_list = bag.items()\n",
    "\n",
    "def getKey(item):\n",
    "    return item[1]\n",
    "\n",
    "bag_list = sorted(bag_list, key=getKey, reverse=True)\n",
    "print(bag_list[:20])"
   ]
  }
 ],
 "metadata": {
  "kernelspec": {
   "display_name": "Python 3",
   "language": "python",
   "name": "python3"
  },
  "language_info": {
   "codemirror_mode": {
    "name": "ipython",
    "version": 3
   },
   "file_extension": ".py",
   "mimetype": "text/x-python",
   "name": "python",
   "nbconvert_exporter": "python",
   "pygments_lexer": "ipython3",
   "version": "3.6.5"
  }
 },
 "nbformat": 4,
 "nbformat_minor": 1
}
