{
 "cells": [
  {
   "cell_type": "code",
   "execution_count": 4,
   "metadata": {},
   "outputs": [
    {
     "name": "stdout",
     "output_type": "stream",
     "text": [
      "[['176' '202']\n",
      " ['220' '120']\n",
      " ['208' '257']\n",
      " ['120' '228']\n",
      " ['155' '177']\n",
      " ['230' '121']\n",
      " ['261' '192']\n",
      " ['151' '94']\n",
      " ['145' '171']\n",
      " ['331' '180']\n",
      " ['229' '149']\n",
      " ['200' '268']\n",
      " ['301' '221']\n",
      " ['239' '129']\n",
      " ['136' '142']\n",
      " ['164' '261']\n",
      " ['223' '218']\n",
      " ['228' '209']\n",
      " ['228' '195']\n",
      " ['184' '171']\n",
      " ['144' '236']\n",
      " ['271' '188']\n",
      " ['272' '162']\n",
      " ['241' '139']\n",
      " ['277' '268']\n",
      " ['153' '310']\n",
      " ['148' '264']\n",
      " ['181' '202']\n",
      " ['249' '130']\n",
      " ['237' '108']\n",
      " ['192' '51']\n",
      " ['110' '80']\n",
      " ['97' '163']\n",
      " ['139' '203']\n",
      " ['179' '235']\n",
      " ['198' '224']\n",
      " ['227' '159']\n",
      " ['233' '222']\n",
      " ['256' '262']\n",
      " ['273' '262']\n",
      " ['383' '8']\n",
      " ['366' '378']\n",
      " ['24' '384']\n",
      " ['27' '32']]\n"
     ]
    }
   ],
   "source": [
    "import numpy as np\n",
    "\n",
    "outliers = np.empty((0, 2))\n",
    "\n",
    "with open(\"outliers.txt\", mode=\"r\") as values:\n",
    "    for line in values:\n",
    "        line = line.strip()\n",
    "        line = line.split(\",\")\n",
    "        \n",
    "        outliers = np.vstack((outliers, line))\n",
    "\n",
    "print(outliers)"
   ]
  },
  {
   "cell_type": "code",
   "execution_count": 5,
   "metadata": {},
   "outputs": [],
   "source": [
    "xs = outliers[0:,0]\n",
    "ys = outliers[0:, 1]"
   ]
  },
  {
   "cell_type": "code",
   "execution_count": 8,
   "metadata": {},
   "outputs": [
    {
     "data": {
      "text/plain": [
       "[]"
      ]
     },
     "execution_count": 8,
     "metadata": {},
     "output_type": "execute_result"
    },
    {
     "data": {
      "image/png": "[encoded data removed]",
      "text/plain": [
       "<Figure size 432x288 with 1 Axes>"
      ]
     },
     "metadata": {},
     "output_type": "display_data"
    }
   ],
   "source": [
    "import matplotlib.pyplot as plt\n",
    "\n",
    "plt.plot(xs, ys, 'o')\n",
    "plt.axis([0, 450, -100, 500])\n",
    "plt.plot()"
   ]
  },
  {
   "cell_type": "code",
   "execution_count": null,
   "metadata": {},
   "outputs": [],
   "source": []
  }
 ],
 "metadata": {
  "kernelspec": {
   "display_name": "Python 3",
   "language": "python",
   "name": "python3"
  },
  "language_info": {
   "codemirror_mode": {
    "name": "ipython",
    "version": 3
   },
   "file_extension": ".py",
   "mimetype": "text/x-python",
   "name": "python",
   "nbconvert_exporter": "python",
   "pygments_lexer": "ipython3",
   "version": "3.6.5"
  }
 },
 "nbformat": 4,
 "nbformat_minor": 2
}
