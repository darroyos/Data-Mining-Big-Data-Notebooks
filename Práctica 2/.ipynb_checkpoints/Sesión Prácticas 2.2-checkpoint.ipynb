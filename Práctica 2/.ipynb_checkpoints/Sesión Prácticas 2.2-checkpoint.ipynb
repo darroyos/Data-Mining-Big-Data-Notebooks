{
 "cells": [
  {
   "cell_type": "markdown",
   "metadata": {},
   "source": [
    "# Práctica 2.2 - Outliers\n",
    "\n",
    "#### David Arroyo\n",
    "### Facultad de Informática - Universidad Complutense de Madrid"
   ]
  },
  {
   "cell_type": "code",
   "execution_count": 1,
   "metadata": {},
   "outputs": [
    {
     "name": "stdout",
     "output_type": "stream",
     "text": [
      "[[176. 202.]\n",
      " [220. 120.]\n",
      " [208. 257.]\n",
      " [120. 228.]\n",
      " [155. 177.]\n",
      " [230. 121.]\n",
      " [261. 192.]\n",
      " [151.  94.]\n",
      " [145. 171.]\n",
      " [331. 180.]\n",
      " [229. 149.]\n",
      " [200. 268.]\n",
      " [301. 221.]\n",
      " [239. 129.]\n",
      " [136. 142.]\n",
      " [164. 261.]\n",
      " [223. 218.]\n",
      " [228. 209.]\n",
      " [228. 195.]\n",
      " [184. 171.]\n",
      " [144. 236.]\n",
      " [271. 188.]\n",
      " [272. 162.]\n",
      " [241. 139.]\n",
      " [277. 268.]\n",
      " [153. 310.]\n",
      " [148. 264.]\n",
      " [181. 202.]\n",
      " [249. 130.]\n",
      " [237. 108.]\n",
      " [192.  51.]\n",
      " [110.  80.]\n",
      " [ 97. 163.]\n",
      " [139. 203.]\n",
      " [179. 235.]\n",
      " [198. 224.]\n",
      " [227. 159.]\n",
      " [233. 222.]\n",
      " [256. 262.]\n",
      " [273. 262.]\n",
      " [383.   8.]\n",
      " [366. 378.]\n",
      " [ 24. 384.]\n",
      " [ 27.  32.]]\n"
     ]
    }
   ],
   "source": [
    "import numpy as np\n",
    "a = np.empty((0, 2))\n",
    "f = open('outliers.txt')\n",
    "for dato in f:\n",
    "    dato = dato.replace('\\n', '')\n",
    "    dato = dato.split(\",\")\n",
    "    a = np.vstack((a, dato))\n",
    "    \n",
    "a = a.astype(\"float\")\n",
    "print(a)"
   ]
  },
  {
   "cell_type": "code",
   "execution_count": 2,
   "metadata": {},
   "outputs": [
    {
     "name": "stdout",
     "output_type": "stream",
     "text": [
      "[176. 220. 208. 120. 155. 230. 261. 151. 145. 331. 229. 200. 301. 239.\n",
      " 136. 164. 223. 228. 228. 184. 144. 271. 272. 241. 277. 153. 148. 181.\n",
      " 249. 237. 192. 110.  97. 139. 179. 198. 227. 233. 256. 273. 383. 366.\n",
      "  24.  27.]\n",
      "[202. 120. 257. 228. 177. 121. 192.  94. 171. 180. 149. 268. 221. 129.\n",
      " 142. 261. 218. 209. 195. 171. 236. 188. 162. 139. 268. 310. 264. 202.\n",
      " 130. 108.  51.  80. 163. 203. 235. 224. 159. 222. 262. 262.   8. 378.\n",
      " 384.  32.]\n"
     ]
    }
   ],
   "source": [
    "Xs = a[:, 0]\n",
    "Ys = a[:, 1]\n",
    "print(Xs)\n",
    "print(Ys)"
   ]
  },
  {
   "cell_type": "code",
   "execution_count": 3,
   "metadata": {},
   "outputs": [
    {
     "data": {
      "text/plain": [
       "[]"
      ]
     },
     "execution_count": 3,
     "metadata": {},
     "output_type": "execute_result"
    }
   ],
   "source": [
    "import matplotlib.pyplot as plt\n",
    "\n",
    "plt.plot(Xs, Ys, 'o')\n",
    "plt.axis([0, 450, -100, 500])\n",
    "plt.plot()"
   ]
  },
  {
   "cell_type": "code",
   "execution_count": 4,
   "metadata": {},
   "outputs": [
    {
     "data": {
      "text/plain": [
       "[204.6818181818182, 190.3409090909091]"
      ]
     },
     "execution_count": 4,
     "metadata": {},
     "output_type": "execute_result"
    }
   ],
   "source": [
    "centro = [Xs.sum()/len(Xs), Ys.sum()/len(Ys)]\n",
    "centro"
   ]
  },
  {
   "cell_type": "code",
   "execution_count": 5,
   "metadata": {},
   "outputs": [
    {
     "data": {
      "image/png": "[encoded data removed]",
      "text/plain": [
       "<Figure size 432x288 with 1 Axes>"
      ]
     },
     "metadata": {},
     "output_type": "display_data"
    }
   ],
   "source": [
    "plt.plot(Xs, Ys, 'o')\n",
    "plt.plot(centro[0], centro[1], 'o', color='red')\n",
    "plt.axis([0, 450, -100, 500])\n",
    "\n",
    "plt.show()"
   ]
  },
  {
   "cell_type": "code",
   "execution_count": 6,
   "metadata": {},
   "outputs": [
    {
     "data": {
      "text/plain": [
       "array([ 30.96096082,  71.98951442,  66.74162668,  92.67803115,\n",
       "        51.4418401 ,  73.81850719,  56.3426143 , 110.28738989,\n",
       "        62.73747035, 126.74074901,  47.96295165,  77.80008883,\n",
       "       101.08002772,  70.28829726,  83.98830657,  81.53353579,\n",
       "        33.17500708,  29.86468277,  23.7790818 ,  28.31622093,\n",
       "        75.94100105,  66.35948384,  73.04070599,  62.88798993,\n",
       "       106.11717025, 130.34304112,  92.94347845,  26.39626703,\n",
       "        74.8673931 ,  88.45614838, 139.91682336, 145.39519563,\n",
       "       111.0986016 ,  66.89061087,  51.51689224,  34.31590149,\n",
       "        38.47536644,  42.47608102,  88.13955466,  99.0070668 ,\n",
       "       255.0403519 , 247.46613947, 264.85800519, 237.99721008])"
      ]
     },
     "execution_count": 6,
     "metadata": {},
     "output_type": "execute_result"
    }
   ],
   "source": [
    "result = []\n",
    "for dato in a:\n",
    "    dist = np.linalg.norm(dato - centro)\n",
    "    result.append(dist)\n",
    "b = np.array(result)\n",
    "b"
   ]
  },
  {
   "cell_type": "code",
   "execution_count": 7,
   "metadata": {},
   "outputs": [],
   "source": [
    "media = np.median(b)"
   ]
  },
  {
   "cell_type": "code",
   "execution_count": 8,
   "metadata": {},
   "outputs": [
    {
     "name": "stdout",
     "output_type": "stream",
     "text": [
      "[[120. 228.]\n",
      " [151.  94.]\n",
      " [331. 180.]\n",
      " [200. 268.]\n",
      " [301. 221.]\n",
      " [136. 142.]\n",
      " [164. 261.]\n",
      " [144. 236.]\n",
      " [277. 268.]\n",
      " [153. 310.]\n",
      " [148. 264.]\n",
      " [249. 130.]\n",
      " [237. 108.]\n",
      " [192.  51.]\n",
      " [110.  80.]\n",
      " [ 97. 163.]\n",
      " [256. 262.]\n",
      " [273. 262.]\n",
      " [383.   8.]\n",
      " [366. 378.]\n",
      " [ 24. 384.]\n",
      " [ 27.  32.]]\n"
     ]
    }
   ],
   "source": [
    "lista = []\n",
    "for dato in a:\n",
    "    dist = np.linalg.norm(dato - centro)\n",
    "    if dist > media:\n",
    "        lista.append(dato)\n",
    "b = np.array(lista)\n",
    "print(b)"
   ]
  },
  {
   "cell_type": "code",
   "execution_count": 9,
   "metadata": {},
   "outputs": [
    {
     "data": {
      "text/plain": [
       "[197.22727272727272, 196.8181818181818]"
      ]
     },
     "execution_count": 9,
     "metadata": {},
     "output_type": "execute_result"
    }
   ],
   "source": [
    "Xs = b[:, 0]\n",
    "Ys = b[:, 1]\n",
    "centroide = [Xs.sum()/len(Xs), Ys.sum()/len(Ys)]\n",
    "centroide"
   ]
  },
  {
   "cell_type": "code",
   "execution_count": 10,
   "metadata": {},
   "outputs": [
    {
     "data": {
      "text/plain": [
       "[]"
      ]
     },
     "execution_count": 10,
     "metadata": {},
     "output_type": "execute_result"
    },
    {
     "data": {
      "image/png": "[encoded data removed]",
      "text/plain": [
       "<Figure size 432x288 with 1 Axes>"
      ]
     },
     "metadata": {},
     "output_type": "display_data"
    }
   ],
   "source": [
    "plt.plot(Xs, Ys, 'o')\n",
    "plt.plot(centroide[0], centroide[1], 'o', color='red')\n",
    "plt.axis([50, 350,  50, 350])\n",
    "\n",
    "plt.plot()"
   ]
  }
 ],
 "metadata": {
  "kernelspec": {
   "display_name": "Python 3",
   "language": "python",
   "name": "python3"
  },
  "language_info": {
   "codemirror_mode": {
    "name": "ipython",
    "version": 3
   },
   "file_extension": ".py",
   "mimetype": "text/x-python",
   "name": "python",
   "nbconvert_exporter": "python",
   "pygments_lexer": "ipython3",
   "version": "3.6.5"
  }
 },
 "nbformat": 4,
 "nbformat_minor": 2
}
