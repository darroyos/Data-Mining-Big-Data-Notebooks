{
 "cells": [
  {
   "cell_type": "markdown",
   "metadata": {},
   "source": [
    "# Práctica 1\n",
    "\n",
    "#### David Arroyo\n",
    "### Facultad de Informática - Universidad Complutense de Madrid"
   ]
  },
  {
   "cell_type": "markdown",
   "metadata": {},
   "source": [
    "**Imprimir \"hola mundo\"**"
   ]
  },
  {
   "cell_type": "code",
   "execution_count": 1,
   "metadata": {
    "scrolled": true
   },
   "outputs": [
    {
     "name": "stdout",
     "output_type": "stream",
     "text": [
      "Hello world\n"
     ]
    }
   ],
   "source": [
    "print(\"Hello world\")"
   ]
  },
  {
   "cell_type": "markdown",
   "metadata": {},
   "source": [
    "**Imprimir \"hola mundo\" diez veces**"
   ]
  },
  {
   "cell_type": "code",
   "execution_count": 2,
   "metadata": {},
   "outputs": [
    {
     "name": "stdout",
     "output_type": "stream",
     "text": [
      "Hello world\n",
      "Hello world\n",
      "Hello world\n",
      "Hello world\n",
      "Hello world\n",
      "Hello world\n",
      "Hello world\n",
      "Hello world\n",
      "Hello world\n",
      "Hello world\n"
     ]
    }
   ],
   "source": [
    "a = 10\n",
    "for i in range(a):\n",
    "    print(\"Hello world\")"
   ]
  },
  {
   "cell_type": "markdown",
   "metadata": {},
   "source": [
    "**Hacer una funcion que imprima un mensaje, n veces. Invocar la funcion.**"
   ]
  },
  {
   "cell_type": "code",
   "execution_count": 3,
   "metadata": {},
   "outputs": [
    {
     "name": "stdout",
     "output_type": "stream",
     "text": [
      "Hello world\n",
      "Hello world\n",
      "Hello world\n"
     ]
    }
   ],
   "source": [
    "def mensaje(n):\n",
    "    for i in range (n):\n",
    "        print(\"Hello world\")\n",
    "\n",
    "n = 3\n",
    "mensaje(n)"
   ]
  },
  {
   "cell_type": "markdown",
   "metadata": {},
   "source": [
    "**Crear una lista con los diez primeros numeros pares**"
   ]
  },
  {
   "cell_type": "code",
   "execution_count": 4,
   "metadata": {},
   "outputs": [
    {
     "name": "stdout",
     "output_type": "stream",
     "text": [
      "0\n",
      "2\n",
      "4\n",
      "6\n",
      "8\n",
      "10\n",
      "12\n",
      "14\n",
      "16\n",
      "18\n"
     ]
    }
   ],
   "source": [
    "b = 0\n",
    "array = []\n",
    "for i in range(a):\n",
    "    array.append(b)\n",
    "    b += 2\n",
    "    print(array[i])"
   ]
  },
  {
   "cell_type": "markdown",
   "metadata": {},
   "source": [
    "**Imprimir la longitud de la lista**"
   ]
  },
  {
   "cell_type": "code",
   "execution_count": 5,
   "metadata": {},
   "outputs": [
    {
     "name": "stdout",
     "output_type": "stream",
     "text": [
      "10\n"
     ]
    }
   ],
   "source": [
    "print(len(array))"
   ]
  },
  {
   "cell_type": "markdown",
   "metadata": {},
   "source": [
    "**Imprimir el ultimo elemento de la lista**"
   ]
  },
  {
   "cell_type": "code",
   "execution_count": 6,
   "metadata": {},
   "outputs": [
    {
     "name": "stdout",
     "output_type": "stream",
     "text": [
      "18\n"
     ]
    }
   ],
   "source": [
    "print(array[-1])"
   ]
  },
  {
   "cell_type": "markdown",
   "metadata": {},
   "source": [
    "**Imprimir los tres últimos elementos de la lista**"
   ]
  },
  {
   "cell_type": "code",
   "execution_count": 7,
   "metadata": {},
   "outputs": [
    {
     "name": "stdout",
     "output_type": "stream",
     "text": [
      "14\n",
      "16\n",
      "18\n"
     ]
    }
   ],
   "source": [
    "print(array[-3])\n",
    "print(array[-2])\n",
    "print(array[-1])"
   ]
  },
  {
   "cell_type": "markdown",
   "metadata": {},
   "source": [
    "**Imprimir los tres primeros elementos de la lista**"
   ]
  },
  {
   "cell_type": "code",
   "execution_count": 8,
   "metadata": {},
   "outputs": [
    {
     "name": "stdout",
     "output_type": "stream",
     "text": [
      "0\n",
      "2\n",
      "4\n"
     ]
    }
   ],
   "source": [
    "for i in range(0, 3):\n",
    "    print(array[i])"
   ]
  },
  {
   "cell_type": "markdown",
   "metadata": {},
   "source": [
    "**Imprimir los cuatro elementos centrales de la lista**"
   ]
  },
  {
   "cell_type": "code",
   "execution_count": 9,
   "metadata": {},
   "outputs": [
    {
     "name": "stdout",
     "output_type": "stream",
     "text": [
      "6\n",
      "8\n",
      "10\n",
      "12\n"
     ]
    }
   ],
   "source": [
    "a = len(array)/2 - 2\n",
    "\n",
    "for i in range(int(a), int(a + 4)):\n",
    "    print(array[i])"
   ]
  },
  {
   "cell_type": "markdown",
   "metadata": {},
   "source": [
    "**Convertir la lista anterior a floats**"
   ]
  },
  {
   "cell_type": "code",
   "execution_count": 10,
   "metadata": {},
   "outputs": [
    {
     "name": "stdout",
     "output_type": "stream",
     "text": [
      "0.0\n",
      "2.0\n",
      "4.0\n",
      "6.0\n",
      "8.0\n",
      "10.0\n",
      "12.0\n",
      "14.0\n",
      "16.0\n",
      "18.0\n"
     ]
    }
   ],
   "source": [
    "for i in range(len(array)):\n",
    "    array[i] = float(array[i])\n",
    "    print(array[i])"
   ]
  },
  {
   "cell_type": "markdown",
   "metadata": {},
   "source": [
    "**Desordena los elementos (usa shuffle de la librería random)**"
   ]
  },
  {
   "cell_type": "code",
   "execution_count": 11,
   "metadata": {},
   "outputs": [
    {
     "name": "stdout",
     "output_type": "stream",
     "text": [
      "6.0\n",
      "4.0\n",
      "12.0\n",
      "0.0\n",
      "16.0\n",
      "2.0\n",
      "14.0\n",
      "18.0\n",
      "8.0\n",
      "10.0\n"
     ]
    }
   ],
   "source": [
    "from random import shuffle\n",
    "shuffle(array)\n",
    "for i in range(len(array)):\n",
    "    print(array[i])"
   ]
  },
  {
   "cell_type": "markdown",
   "metadata": {},
   "source": [
    "**Vuelve a ordenarlos**"
   ]
  },
  {
   "cell_type": "code",
   "execution_count": 12,
   "metadata": {
    "scrolled": true
   },
   "outputs": [
    {
     "name": "stdout",
     "output_type": "stream",
     "text": [
      "0.0\n",
      "2.0\n",
      "4.0\n",
      "6.0\n",
      "8.0\n",
      "10.0\n",
      "12.0\n",
      "14.0\n",
      "16.0\n",
      "18.0\n"
     ]
    }
   ],
   "source": [
    "array.sort()\n",
    "for i in range(len(array)):\n",
    "    print(array[i])"
   ]
  },
  {
   "cell_type": "markdown",
   "metadata": {},
   "source": [
    "**Sumar todos los elementos de la lista**"
   ]
  },
  {
   "cell_type": "code",
   "execution_count": 13,
   "metadata": {},
   "outputs": [
    {
     "name": "stdout",
     "output_type": "stream",
     "text": [
      "90.0\n"
     ]
    }
   ],
   "source": [
    "suma = 0\n",
    "for i in array:\n",
    "    suma += i\n",
    "\n",
    "print(suma)"
   ]
  },
  {
   "cell_type": "markdown",
   "metadata": {},
   "source": [
    "**Utilizando numpy, repite las operaciones (generar lista, convertir a float y sumar los\n",
    "valores)**"
   ]
  },
  {
   "cell_type": "code",
   "execution_count": 14,
   "metadata": {},
   "outputs": [
    {
     "name": "stdout",
     "output_type": "stream",
     "text": [
      "0.0\n",
      "2.0\n",
      "4.0\n"
     ]
    }
   ],
   "source": [
    "import numpy as np\n",
    "x = np.array([])  \n",
    "b = 0\n",
    "\n",
    "for i in range(int(a)):\n",
    "    x = np.append(x, b)\n",
    "    b += 2\n",
    "    print(x[i])\n"
   ]
  },
  {
   "cell_type": "code",
   "execution_count": 15,
   "metadata": {},
   "outputs": [
    {
     "data": {
      "text/plain": [
       "6.0"
      ]
     },
     "execution_count": 15,
     "metadata": {},
     "output_type": "execute_result"
    }
   ],
   "source": [
    "x.sum()"
   ]
  },
  {
   "cell_type": "markdown",
   "metadata": {},
   "source": [
    "**Crear una lista de 20 enteros aleatorios entre 0 y 100**"
   ]
  },
  {
   "cell_type": "code",
   "execution_count": 16,
   "metadata": {},
   "outputs": [],
   "source": [
    "from random import randint\n",
    "lista = []\n",
    "for i in range(20):\n",
    "    lista.append(randint(0, 100))"
   ]
  },
  {
   "cell_type": "code",
   "execution_count": 17,
   "metadata": {
    "scrolled": true
   },
   "outputs": [
    {
     "name": "stdout",
     "output_type": "stream",
     "text": [
      "[77, 100, 50, 6, 60, 46, 18, 64, 78, 17, 23, 60, 3, 86, 28, 41, 16, 96, 72, 53]\n"
     ]
    }
   ],
   "source": [
    "print(lista)"
   ]
  },
  {
   "cell_type": "markdown",
   "metadata": {},
   "source": [
    "**Encontrar el maximo valor y el indice en el que esta**"
   ]
  },
  {
   "cell_type": "code",
   "execution_count": 18,
   "metadata": {},
   "outputs": [
    {
     "data": {
      "text/plain": [
       "100"
      ]
     },
     "execution_count": 18,
     "metadata": {},
     "output_type": "execute_result"
    }
   ],
   "source": [
    "max(lista)"
   ]
  },
  {
   "cell_type": "code",
   "execution_count": 19,
   "metadata": {},
   "outputs": [
    {
     "data": {
      "text/plain": [
       "1"
      ]
     },
     "execution_count": 19,
     "metadata": {},
     "output_type": "execute_result"
    }
   ],
   "source": [
    "lista.index(max(lista))"
   ]
  },
  {
   "cell_type": "markdown",
   "metadata": {},
   "source": [
    "**Hacer lo mismo con numpy**"
   ]
  },
  {
   "cell_type": "code",
   "execution_count": 20,
   "metadata": {},
   "outputs": [],
   "source": [
    "hola = np.array(lista)"
   ]
  },
  {
   "cell_type": "code",
   "execution_count": 21,
   "metadata": {},
   "outputs": [
    {
     "data": {
      "text/plain": [
       "100"
      ]
     },
     "execution_count": 21,
     "metadata": {},
     "output_type": "execute_result"
    }
   ],
   "source": [
    "hola.max()"
   ]
  },
  {
   "cell_type": "code",
   "execution_count": 22,
   "metadata": {
    "scrolled": true
   },
   "outputs": [
    {
     "name": "stdout",
     "output_type": "stream",
     "text": [
      "(array([1]),)\n"
     ]
    }
   ],
   "source": [
    "print(np.where(hola == hola.max()))"
   ]
  },
  {
   "cell_type": "markdown",
   "metadata": {},
   "source": [
    "**Reemplaza todas las 'a's por 'e's en la siguiente frase:**"
   ]
  },
  {
   "cell_type": "code",
   "execution_count": 23,
   "metadata": {},
   "outputs": [
    {
     "data": {
      "text/plain": [
       "'Pepe Peces pice pepes con un pico, con un pico pice pepes Pepe Peces'"
      ]
     },
     "execution_count": 23,
     "metadata": {},
     "output_type": "execute_result"
    }
   ],
   "source": [
    "mensaje = 'Pepe Pecas pica papas con un pico, con un pico pica papas Pepe Pecas'\n",
    "mensaje.replace('a', 'e')"
   ]
  },
  {
   "cell_type": "markdown",
   "metadata": {},
   "source": [
    "**Transforma la cadena a minuscula**"
   ]
  },
  {
   "cell_type": "code",
   "execution_count": 24,
   "metadata": {},
   "outputs": [],
   "source": [
    "mensaje = mensaje.lower()"
   ]
  },
  {
   "cell_type": "markdown",
   "metadata": {},
   "source": [
    "**Cuenta el numero de 'P's**"
   ]
  },
  {
   "cell_type": "code",
   "execution_count": 25,
   "metadata": {},
   "outputs": [
    {
     "name": "stdout",
     "output_type": "stream",
     "text": [
      "14\n"
     ]
    }
   ],
   "source": [
    "cuenta = 0\n",
    "for carac in mensaje:\n",
    "    if carac == 'p':\n",
    "        cuenta += 1\n",
    "    \n",
    "print(cuenta)"
   ]
  },
  {
   "cell_type": "markdown",
   "metadata": {},
   "source": [
    "**Parsea como enteros la siguiente cadena de caracteres:**"
   ]
  },
  {
   "cell_type": "code",
   "execution_count": 26,
   "metadata": {},
   "outputs": [],
   "source": [
    "cadena = '1, 3, 5, 6, -3, 2'\n",
    "lista = []\n",
    "for cad in cadena:\n",
    "    if cad.isdigit():\n",
    "        lista.append(int(cad))"
   ]
  },
  {
   "cell_type": "code",
   "execution_count": 27,
   "metadata": {},
   "outputs": [
    {
     "data": {
      "text/plain": [
       "[1, 3, 5, 6, 3, 2]"
      ]
     },
     "execution_count": 27,
     "metadata": {},
     "output_type": "execute_result"
    }
   ],
   "source": [
    "lista"
   ]
  },
  {
   "cell_type": "markdown",
   "metadata": {},
   "source": [
    "**Repite la operacion usando expresiones regulares y numpy**"
   ]
  },
  {
   "cell_type": "code",
   "execution_count": 28,
   "metadata": {},
   "outputs": [
    {
     "data": {
      "text/plain": [
       "array('1, 3, 5, 6, -3, 2', dtype='<U17')"
      ]
     },
     "execution_count": 28,
     "metadata": {},
     "output_type": "execute_result"
    }
   ],
   "source": [
    "jo = np.array(cadena)\n",
    "jo"
   ]
  },
  {
   "cell_type": "code",
   "execution_count": 29,
   "metadata": {},
   "outputs": [
    {
     "data": {
      "text/plain": [
       "array([1])"
      ]
     },
     "execution_count": 29,
     "metadata": {},
     "output_type": "execute_result"
    }
   ],
   "source": [
    "jo = np.fromstring(jo, dtype = int, sep = ',')\n",
    "jo"
   ]
  },
  {
   "cell_type": "markdown",
   "metadata": {},
   "source": [
    "**Lee el fichero 1.txt y realiza las divisiones reales entre la primera y la segunda\n",
    "columna,**"
   ]
  },
  {
   "cell_type": "code",
   "execution_count": 30,
   "metadata": {},
   "outputs": [
    {
     "name": "stdout",
     "output_type": "stream",
     "text": [
      "0.5\n",
      "0.6666666666666666\n",
      "0.75\n",
      "2.0\n",
      "0.6666666666666666\n",
      "0.5714285714285714\n",
      "0.75\n",
      "3.5\n"
     ]
    }
   ],
   "source": [
    "col1 = []\n",
    "col2 = []\n",
    "aux = []\n",
    "f = open(\"1.txt\")\n",
    "for dato in f:\n",
    "    aux.append(dato.replace('\\n', ''))\n",
    "    \n",
    "for dato in aux:\n",
    "    a,b = dato.split()\n",
    "    col1.append(a)\n",
    "    col2.append(b)\n",
    "    \n",
    "for i in range(len(col1)):\n",
    "    try:\n",
    "        print(float(col1[i])/float(col2[i]))\n",
    "    except Exception:\n",
    "        pass"
   ]
  },
  {
   "cell_type": "markdown",
   "metadata": {},
   "source": [
    "**Crea una lista con 15 valores en el intervalo [0..1], distribuidos linealmente**"
   ]
  },
  {
   "cell_type": "code",
   "execution_count": 31,
   "metadata": {
    "scrolled": true
   },
   "outputs": [
    {
     "data": {
      "text/plain": [
       "[0,\n",
       " 0.07142857142857142,\n",
       " 0.14285714285714285,\n",
       " 0.21428571428571427,\n",
       " 0.2857142857142857,\n",
       " 0.3571428571428571,\n",
       " 0.4285714285714285,\n",
       " 0.4999999999999999,\n",
       " 0.5714285714285713,\n",
       " 0.6428571428571427,\n",
       " 0.7142857142857141,\n",
       " 0.7857142857142855,\n",
       " 0.8571428571428569,\n",
       " 0.9285714285714283,\n",
       " 0.9999999999999997]"
      ]
     },
     "execution_count": 31,
     "metadata": {},
     "output_type": "execute_result"
    }
   ],
   "source": [
    "c =  1/float(14)\n",
    "d = 0\n",
    "\n",
    "lista = []\n",
    "for i in range(0, 15):\n",
    "    lista.append(d)\n",
    "    d = d + c\n",
    "    \n",
    "lista"
   ]
  },
  {
   "cell_type": "markdown",
   "metadata": {},
   "source": [
    "**Repite lo anterior usando numpy**"
   ]
  },
  {
   "cell_type": "code",
   "execution_count": 32,
   "metadata": {
    "scrolled": true
   },
   "outputs": [
    {
     "data": {
      "text/plain": [
       "array([0.        , 0.07142857, 0.14285714, 0.21428571, 0.28571429,\n",
       "       0.35714286, 0.42857143, 0.5       , 0.57142857, 0.64285714,\n",
       "       0.71428571, 0.78571429, 0.85714286, 0.92857143, 1.        ])"
      ]
     },
     "execution_count": 32,
     "metadata": {},
     "output_type": "execute_result"
    }
   ],
   "source": [
    "np.linspace(0, 1, 15)"
   ]
  },
  {
   "cell_type": "markdown",
   "metadata": {},
   "source": [
    "**Crea dos np arrays con 20 numeros randoms y réstalas.**"
   ]
  },
  {
   "cell_type": "code",
   "execution_count": 33,
   "metadata": {},
   "outputs": [
    {
     "data": {
      "text/plain": [
       "array([0, 3, 6, 3, 2, 4, 5, 3, 0, 7, 3, 4, 0, 8, 0])"
      ]
     },
     "execution_count": 33,
     "metadata": {},
     "output_type": "execute_result"
    }
   ],
   "source": [
    "np.random.seed(0)\n",
    "a = np.random.randint(10, size=20)\n",
    "b = np.random.randint(10, size=20)\n",
    "c = a - b\n",
    "c[c>=0]"
   ]
  },
  {
   "cell_type": "markdown",
   "metadata": {},
   "source": [
    "**Cea dos arrays aleatorias de 10 valores, concatenalas y selecciona los 10 valores\n",
    "centrales.**"
   ]
  },
  {
   "cell_type": "code",
   "execution_count": 34,
   "metadata": {},
   "outputs": [
    {
     "data": {
      "text/plain": [
       "array([3, 2, 7, 2, 0, 0, 4, 5, 5, 6])"
      ]
     },
     "execution_count": 34,
     "metadata": {},
     "output_type": "execute_result"
    }
   ],
   "source": [
    "array1 = np.random.randint(10, size=10)\n",
    "array2 = np.random.randint(10, size=10)\n",
    "array3 = np.concatenate((array1, array2))\n",
    "array3[5:15]"
   ]
  },
  {
   "cell_type": "code",
   "execution_count": 35,
   "metadata": {},
   "outputs": [
    {
     "data": {
      "text/plain": [
       "array([9, 9, 0, 4, 7, 3, 2, 7, 2, 0, 0, 4, 5, 5, 6, 8, 4, 1, 4, 9])"
      ]
     },
     "execution_count": 35,
     "metadata": {},
     "output_type": "execute_result"
    }
   ],
   "source": [
    "array3"
   ]
  },
  {
   "cell_type": "markdown",
   "metadata": {},
   "source": [
    "**Cea dos arrays aleatorias de 5 valores, apilalas en una matrix y selecciona la columna\n",
    "central**"
   ]
  },
  {
   "cell_type": "code",
   "execution_count": 36,
   "metadata": {},
   "outputs": [],
   "source": [
    "np.random.seed(0)\n",
    "array1 = np.random.randint(10, size=5)\n",
    "array2 = np.random.randint(10, size=5)"
   ]
  },
  {
   "cell_type": "code",
   "execution_count": 37,
   "metadata": {},
   "outputs": [],
   "source": [
    "array3 = np.vstack((array1, array2))"
   ]
  },
  {
   "cell_type": "code",
   "execution_count": 38,
   "metadata": {},
   "outputs": [
    {
     "data": {
      "text/plain": [
       "array([3, 5])"
      ]
     },
     "execution_count": 38,
     "metadata": {},
     "output_type": "execute_result"
    }
   ],
   "source": [
    "array3[:, 2]"
   ]
  },
  {
   "cell_type": "code",
   "execution_count": 39,
   "metadata": {},
   "outputs": [
    {
     "data": {
      "text/plain": [
       "array([[5, 0, 3, 3, 7],\n",
       "       [9, 3, 5, 2, 4]])"
      ]
     },
     "execution_count": 39,
     "metadata": {},
     "output_type": "execute_result"
    }
   ],
   "source": [
    "array3"
   ]
  },
  {
   "cell_type": "markdown",
   "metadata": {},
   "source": [
    "**Cea dos arrays aleatorias de 5 valores, apilalas en una matrix y selecciona la columna\n",
    "central.**"
   ]
  },
  {
   "cell_type": "code",
   "execution_count": 40,
   "metadata": {},
   "outputs": [
    {
     "data": {
      "text/plain": [
       "array([[5, 0, 3, 3, 7],\n",
       "       [9, 3, 5, 2, 4],\n",
       "       [7, 6, 8, 8, 1]])"
      ]
     },
     "execution_count": 40,
     "metadata": {},
     "output_type": "execute_result"
    }
   ],
   "source": [
    "np.random.seed(0)\n",
    "array1 = np.random.randint(10, size=5)\n",
    "array2 = np.random.randint(10, size=5)\n",
    "array3 = np.random.randint(10, size=5)\n",
    "array4 = np.vstack((array1, array2, array3))\n",
    "array4"
   ]
  },
  {
   "cell_type": "code",
   "execution_count": 41,
   "metadata": {},
   "outputs": [
    {
     "data": {
      "text/plain": [
       "array([[0, 3, 3],\n",
       "       [3, 5, 2],\n",
       "       [6, 8, 8]])"
      ]
     },
     "execution_count": 41,
     "metadata": {},
     "output_type": "execute_result"
    }
   ],
   "source": [
    "array4[:, 1:4]"
   ]
  },
  {
   "cell_type": "markdown",
   "metadata": {},
   "source": [
    "**Dada la siguiente lista de valores normalizalos para que todos tengan un valor comprendido\n",
    "entre 0...1**"
   ]
  },
  {
   "cell_type": "code",
   "execution_count": 42,
   "metadata": {},
   "outputs": [
    {
     "data": {
      "text/plain": [
       "array([0.4972973 , 0.30810811, 0.45945946, 1.        , 0.81081081,\n",
       "       0.87027027, 0.95675676, 0.44324324, 0.54594595, 0.3027027 ,\n",
       "       0.26486486, 0.82162162, 0.35135135, 0.40540541, 0.58918919,\n",
       "       0.93513514, 0.77297297, 0.11891892, 0.37837838, 0.78918919])"
      ]
     },
     "execution_count": 42,
     "metadata": {},
     "output_type": "execute_result"
    }
   ],
   "source": [
    "x = np.array([92, 57, 85, 185, 150, 161, 177, 82, 101, 56, 49, 152, 65, 75, 109, 173, 143, 22, 70, 146])\n",
    "x_normed = x / float(x.max())\n",
    "x_normed"
   ]
  },
  {
   "cell_type": "markdown",
   "metadata": {},
   "source": [
    "**Crear una disribucion normal en numpy**"
   ]
  },
  {
   "cell_type": "code",
   "execution_count": 43,
   "metadata": {},
   "outputs": [
    {
     "data": {
      "text/plain": [
       "array([ 0.17640523,  0.04001572,  0.0978738 ,  0.22408932,  0.1867558 ,\n",
       "       -0.09772779,  0.09500884, -0.01513572, -0.01032189,  0.04105985,\n",
       "        0.01440436,  0.14542735,  0.07610377,  0.0121675 ,  0.04438632,\n",
       "        0.03336743,  0.14940791, -0.02051583,  0.03130677, -0.08540957,\n",
       "       -0.25529898,  0.06536186,  0.08644362, -0.0742165 ,  0.22697546,\n",
       "       -0.14543657,  0.00457585, -0.01871839,  0.15327792,  0.14693588,\n",
       "        0.01549474,  0.03781625, -0.08877857, -0.19807965, -0.03479121,\n",
       "        0.0156349 ,  0.12302907,  0.12023798, -0.03873268, -0.03023028,\n",
       "       -0.1048553 , -0.14200179, -0.17062702,  0.19507754, -0.05096522,\n",
       "       -0.04380743, -0.12527954,  0.07774904, -0.16138978, -0.02127403,\n",
       "       -0.08954666,  0.03869025, -0.05108051, -0.11806322, -0.00281822,\n",
       "        0.04283319,  0.00665172,  0.03024719, -0.06343221, -0.03627412,\n",
       "       -0.06724604, -0.03595532, -0.08131463, -0.17262826,  0.01774261,\n",
       "       -0.04017809, -0.16301983,  0.04627823, -0.09072984,  0.00519454,\n",
       "        0.07290906,  0.01289829,  0.11394007, -0.12348258,  0.04023416,\n",
       "       -0.06848101, -0.08707971, -0.05788497, -0.03115525,  0.00561653,\n",
       "       -0.11651498,  0.09008265,  0.04656624, -0.15362437,  0.14882522,\n",
       "        0.18958892,  0.11787796, -0.01799248, -0.10707526,  0.10544517,\n",
       "       -0.04031769,  0.12224451,  0.0208275 ,  0.0976639 ,  0.03563664,\n",
       "        0.07065732,  0.00105   ,  0.17858705,  0.01269121,  0.04019894])"
      ]
     },
     "execution_count": 43,
     "metadata": {},
     "output_type": "execute_result"
    }
   ],
   "source": [
    "np.random.seed(0)\n",
    "h = np.random.normal(0, 0.1, 100)\n",
    "h"
   ]
  },
  {
   "cell_type": "markdown",
   "metadata": {},
   "source": [
    "**Pintalos con matplotlib, recuerda usar \"%matplotlib inline\" para que jupyter lo pinte en el\n",
    "notebook.**"
   ]
  },
  {
   "cell_type": "code",
   "execution_count": 44,
   "metadata": {},
   "outputs": [
    {
     "name": "stderr",
     "output_type": "stream",
     "text": [
      "/usr/local/lib/python3.6/dist-packages/matplotlib/axes/_axes.py:6462: UserWarning: The 'normed' kwarg is deprecated, and has been replaced by the 'density' kwarg.\n",
      "  warnings.warn(\"The 'normed' kwarg is deprecated, and has been \"\n"
     ]
    },
    {
     "data": {
      "text/plain": [
       "(array([0.62205245, 0.        , 0.        , 0.62205245, 0.        ,\n",
       "        2.4882098 , 1.2441049 , 0.62205245, 2.4882098 , 1.86615735,\n",
       "        3.73231471, 2.4882098 , 1.86615735, 4.97641961, 3.73231471,\n",
       "        1.86615735, 6.84257696, 2.4882098 , 6.84257696, 0.62205245,\n",
       "        2.4882098 , 3.11026226, 1.2441049 , 2.4882098 , 0.62205245,\n",
       "        2.4882098 , 1.2441049 , 1.2441049 , 0.62205245, 1.2441049 ]),\n",
       " array([-0.25529898, -0.23922317, -0.22314735, -0.20707154, -0.19099572,\n",
       "        -0.17491991, -0.15884409, -0.14276828, -0.12669246, -0.11061665,\n",
       "        -0.09454083, -0.07846502, -0.0623892 , -0.04631339, -0.03023757,\n",
       "        -0.01416176,  0.00191406,  0.01798987,  0.03406568,  0.0501415 ,\n",
       "         0.06621731,  0.08229313,  0.09836894,  0.11444476,  0.13052057,\n",
       "         0.14659639,  0.1626722 ,  0.17874802,  0.19482383,  0.21089965,\n",
       "         0.22697546]),\n",
       " <a list of 30 Patch objects>)"
      ]
     },
     "execution_count": 44,
     "metadata": {},
     "output_type": "execute_result"
    },
    {
     "data": {
      "image/png": "[encoded data removed]",
      "text/plain": [
       "<Figure size 432x288 with 1 Axes>"
      ]
     },
     "metadata": {},
     "output_type": "display_data"
    }
   ],
   "source": [
    "%matplotlib inline\n",
    "import matplotlib.pyplot as plt\n",
    "plt.hist(h, 30, normed=True)"
   ]
  }
 ],
 "metadata": {
  "kernelspec": {
   "display_name": "Python 3",
   "language": "python",
   "name": "python3"
  },
  "language_info": {
   "codemirror_mode": {
    "name": "ipython",
    "version": 3
   },
   "file_extension": ".py",
   "mimetype": "text/x-python",
   "name": "python",
   "nbconvert_exporter": "python",
   "pygments_lexer": "ipython3",
   "version": "3.6.5"
  }
 },
 "nbformat": 4,
 "nbformat_minor": 2
}
