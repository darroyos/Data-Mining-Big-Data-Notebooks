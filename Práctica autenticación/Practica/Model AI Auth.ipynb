{
 "cells": [
  {
   "cell_type": "code",
   "execution_count": 88,
   "metadata": {},
   "outputs": [],
   "source": [
    "from login import Login\n",
    "import pandas as pd\n",
    "from sklearn.ensemble import GradientBoostingClassifier\n",
    "from sklearn.model_selection import cross_val_score, GridSearchCV\n",
    "from pymongo.mongo_client import MongoClient"
   ]
  },
  {
   "cell_type": "code",
   "execution_count": 89,
   "metadata": {},
   "outputs": [],
   "source": [
    "client = MongoClient('localhost', 27017)\n",
    "db = client['myDB']\n",
    "collection = db[\"login\"]"
   ]
  },
  {
   "cell_type": "code",
   "execution_count": 90,
   "metadata": {},
   "outputs": [],
   "source": [
    "records = []\n",
    "for v  in collection.find({}):\n",
    "    login = Login()\n",
    "    login.tiempo_presionado = v[\"tiempo_presionado\"]\n",
    "    login.tiempo_vuelo = v[\"tiempo_vuelo\"]\n",
    "    login.usuario = v[\"usuario\"]\n",
    "    records.append(login.toTuple())\n",
    "    \n",
    "features = [\"tiempo_presionado\", \"tiempo_vuelo\"]\n",
    "target = \"usuario\"\n",
    "\n",
    "labels =  features + [target]\n",
    "df = pd.DataFrame.from_records(records, columns = labels)\n",
    "\n",
    "# filtrado de outliers\n",
    "df = df[df['tiempo_presionado'] < 200]\n",
    "df = df[df['tiempo_vuelo'] < 350]"
   ]
  },
  {
   "cell_type": "code",
   "execution_count": 93,
   "metadata": {},
   "outputs": [
    {
     "data": {
      "text/plain": [
       "0.8913043478260869"
      ]
     },
     "execution_count": 93,
     "metadata": {},
     "output_type": "execute_result"
    }
   ],
   "source": [
    "algo = GradientBoostingClassifier(random_state=7)\n",
    "\n",
    "param_grid = {'n_estimators': [100, 105, 110, 115, 120], 'learning_rate': [0.1, 0.2, 0.3, 0.5]}\n",
    "\n",
    "X = df[features]\n",
    "y = df[target]\n",
    "\n",
    "clf = GridSearchCV(algo, param_grid)\n",
    "clf.fit(X, y)\n",
    "\n",
    "clf.best_score_"
   ]
  }
 ],
 "metadata": {
  "kernelspec": {
   "display_name": "Python 3",
   "language": "python",
   "name": "python3"
  },
  "language_info": {
   "codemirror_mode": {
    "name": "ipython",
    "version": 3
   },
   "file_extension": ".py",
   "mimetype": "text/x-python",
   "name": "python",
   "nbconvert_exporter": "python",
   "pygments_lexer": "ipython3",
   "version": "3.6.5"
  }
 },
 "nbformat": 4,
 "nbformat_minor": 2
}
